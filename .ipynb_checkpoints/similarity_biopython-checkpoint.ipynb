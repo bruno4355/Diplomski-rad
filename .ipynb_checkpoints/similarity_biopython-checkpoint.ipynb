{
 "cells": [
  {
   "cell_type": "code",
   "execution_count": 6,
   "id": "9cd3ee80",
   "metadata": {},
   "outputs": [],
   "source": [
    "from Bio import pairwise2\n",
    "from Bio.Seq import Seq"
   ]
  },
  {
   "cell_type": "code",
   "execution_count": 9,
   "id": "cff5f4a8",
   "metadata": {},
   "outputs": [],
   "source": [
    "def calculate_sequence_similarity(seq1, seq2):\n",
    "    # Convert the sequences to Seq objects\n",
    "    seq1 = Seq(seq1)\n",
    "    seq2 = Seq(seq2)\n",
    "\n",
    "    # Perform global sequence alignment\n",
    "    alignments = pairwise2.align.globalxx(seq1, seq2)\n",
    "\n",
    "    # Get the alignment with the best score (the first one in the list)\n",
    "    best_alignment = alignments[0]\n",
    "    seq1_aligned, seq2_aligned, score, begin, end = best_alignment\n",
    "\n",
    "    # Calculate similarity as a percentage\n",
    "    similarity = (score / max(len(seq1), len(seq2))) * 100\n",
    "\n",
    "    return similarity"
   ]
  },
  {
   "cell_type": "code",
   "execution_count": null,
   "id": "11ac9664",
   "metadata": {},
   "outputs": [],
   "source": [
    "def calculate_all_similarities(df):\n",
    "    similarity_results = []\n",
    "\n",
    "    for i, row1 in df.iterrows():\n",
    "        seq1 = row1['Sequence']\n",
    "\n",
    "        for j, row2 in df.iterrows():\n",
    "            if i != j:  # Avoid comparing the same sequence with itself\n",
    "                seq2 = row2['Sequence']\n",
    "                similarity = calculate_sequence_similarity(seq1, seq2)\n",
    "                similarity_results.append((i, j, similarity))\n",
    "\n",
    "    return similarity_results\n"
   ]
  },
  {
   "cell_type": "code",
   "execution_count": 10,
   "id": "14a8b356",
   "metadata": {},
   "outputs": [
    {
     "name": "stdout",
     "output_type": "stream",
     "text": [
      "Similarity between the sequences: 85.00%\n"
     ]
    }
   ],
   "source": [
    "# Example usage:\n",
    "peptide_seq1 = \"ACDEFGHIKLMNPQRSTVWY\"\n",
    "peptide_seq2 = \"ACDEFGHIMNQRSTVWYK\"\n",
    "\n",
    "similarity_score = calculate_sequence_similarity(peptide_seq1, peptide_seq2)\n",
    "print(f\"Similarity between the sequences: {similarity_score:.2f}%\")\n"
   ]
  },
  {
   "cell_type": "code",
   "execution_count": null,
   "id": "9fdc81c6",
   "metadata": {},
   "outputs": [],
   "source": [
    "df = pd.read_csv(file_path)\n",
    "\n",
    "# Calculate similarities for all sequences in the DataFrame\n",
    "results = calculate_all_similarities(df)\n",
    "\n",
    "# Display the results\n",
    "for i, j, similarity in results:\n",
    "    seq1 = df.loc[i, 'Sequence']\n",
    "    seq2 = df.loc[j, 'Sequence']\n",
    "    print(f\"Similarity between Sequence {i} and Sequence {j}: {similarity:.2f}%\")\n"
   ]
  }
 ],
 "metadata": {
  "kernelspec": {
   "display_name": "Python 3 (ipykernel)",
   "language": "python",
   "name": "python3"
  },
  "language_info": {
   "codemirror_mode": {
    "name": "ipython",
    "version": 3
   },
   "file_extension": ".py",
   "mimetype": "text/x-python",
   "name": "python",
   "nbconvert_exporter": "python",
   "pygments_lexer": "ipython3",
   "version": "3.9.12"
  }
 },
 "nbformat": 4,
 "nbformat_minor": 5
}
