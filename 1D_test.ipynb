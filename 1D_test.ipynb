{
 "cells": [
  {
   "cell_type": "code",
   "execution_count": 1,
   "id": "b5f35f15",
   "metadata": {},
   "outputs": [],
   "source": [
    "import numpy as np\n",
    "import tensorflow as tf\n",
    "from tensorflow import keras\n",
    "from tensorflow.keras import layers\n",
    "import pandas as pd"
   ]
  },
  {
   "cell_type": "code",
   "execution_count": 2,
   "id": "cffd127b",
   "metadata": {},
   "outputs": [],
   "source": [
    "class Sampling(layers.Layer):\n",
    "    \"\"\"Uses (z_mean, z_log_var) to sample z, the vector encoding a digit.\"\"\"\n",
    "\n",
    "    def call(self, inputs):\n",
    "        z_mean, z_log_var = inputs\n",
    "        batch = tf.shape(z_mean)[0]\n",
    "        dim = tf.shape(z_mean)[1]\n",
    "        epsilon = tf.keras.backend.random_normal(shape=(batch, dim))\n",
    "        return z_mean + tf.exp(0.5 * z_log_var) * epsilon"
   ]
  },
  {
   "cell_type": "code",
   "execution_count": 3,
   "id": "0f37680e",
   "metadata": {},
   "outputs": [
    {
     "name": "stdout",
     "output_type": "stream",
     "text": [
      "Model: \"encoder\"\n",
      "__________________________________________________________________________________________________\n",
      " Layer (type)                   Output Shape         Param #     Connected to                     \n",
      "==================================================================================================\n",
      " input_1 (InputLayer)           [(None, 17, 1)]      0           []                               \n",
      "                                                                                                  \n",
      " conv1d (Conv1D)                (None, 17, 8)        32          ['input_1[0][0]']                \n",
      "                                                                                                  \n",
      " max_pooling1d (MaxPooling1D)   (None, 17, 8)        0           ['conv1d[0][0]']                 \n",
      "                                                                                                  \n",
      " conv1d_1 (Conv1D)              (None, 17, 4)        100         ['max_pooling1d[0][0]']          \n",
      "                                                                                                  \n",
      " max_pooling1d_1 (MaxPooling1D)  (None, 17, 4)       0           ['conv1d_1[0][0]']               \n",
      "                                                                                                  \n",
      " average_pooling1d (AveragePool  (None, 8, 4)        0           ['max_pooling1d_1[0][0]']        \n",
      " ing1D)                                                                                           \n",
      "                                                                                                  \n",
      " flatten (Flatten)              (None, 32)           0           ['average_pooling1d[0][0]']      \n",
      "                                                                                                  \n",
      " dense (Dense)                  (None, 2)            66          ['flatten[0][0]']                \n",
      "                                                                                                  \n",
      " z_mean (Dense)                 (None, 2)            6           ['dense[0][0]']                  \n",
      "                                                                                                  \n",
      " z_log_var (Dense)              (None, 2)            6           ['dense[0][0]']                  \n",
      "                                                                                                  \n",
      " sampling (Sampling)            (None, 2)            0           ['z_mean[0][0]',                 \n",
      "                                                                  'z_log_var[0][0]']              \n",
      "                                                                                                  \n",
      "==================================================================================================\n",
      "Total params: 210\n",
      "Trainable params: 210\n",
      "Non-trainable params: 0\n",
      "__________________________________________________________________________________________________\n"
     ]
    }
   ],
   "source": [
    "latent_dim = 2\n",
    "\n",
    "encoder_inputs = keras.Input(shape=(17, 1))\n",
    "x = layers.Conv1D(8,3, activation='relu', padding='same',dilation_rate=2)(encoder_inputs)\n",
    "# x = ZeroPadding1D((2,1))(x)\n",
    "x1 = layers.MaxPooling1D(1)(x)\n",
    "x2 = layers.Conv1D(4,3, activation='relu', padding='same',dilation_rate=2)(x1)\n",
    "x3 = layers.MaxPooling1D(1)(x2)\n",
    "x4 = layers.AveragePooling1D()(x3)\n",
    "flat = layers.Flatten()(x4)\n",
    "encoder = layers.Dense(2)(flat)\n",
    "x = encoder\n",
    "z_mean = layers.Dense(latent_dim, name=\"z_mean\")(x)\n",
    "z_log_var = layers.Dense(latent_dim, name=\"z_log_var\")(x)\n",
    "z = Sampling()([z_mean, z_log_var])\n",
    "encoder = keras.Model(encoder_inputs, [z_mean, z_log_var, z], name=\"encoder\")\n",
    "encoder.summary()\n"
   ]
  },
  {
   "cell_type": "code",
   "execution_count": 4,
   "id": "9ea55241",
   "metadata": {},
   "outputs": [
    {
     "name": "stdout",
     "output_type": "stream",
     "text": [
      "Model: \"decoder\"\n",
      "_________________________________________________________________\n",
      " Layer (type)                Output Shape              Param #   \n",
      "=================================================================\n",
      " input_2 (InputLayer)        [(None, 2)]               0         \n",
      "                                                                 \n",
      " dense_1 (Dense)             (None, 9)                 27        \n",
      "                                                                 \n",
      " reshape (Reshape)           (None, 9, 1)              0         \n",
      "                                                                 \n",
      " conv1d_2 (Conv1D)           (None, 9, 4)              8         \n",
      "                                                                 \n",
      " up_sampling1d (UpSampling1D  (None, 18, 4)            0         \n",
      " )                                                               \n",
      "                                                                 \n",
      " conv1d_3 (Conv1D)           (None, 18, 8)             40        \n",
      "                                                                 \n",
      " conv1d_4 (Conv1D)           (None, 18, 1)             17        \n",
      "                                                                 \n",
      " cropping1d (Cropping1D)     (None, 17, 1)             0         \n",
      "                                                                 \n",
      "=================================================================\n",
      "Total params: 92\n",
      "Trainable params: 92\n",
      "Non-trainable params: 0\n",
      "_________________________________________________________________\n"
     ]
    }
   ],
   "source": [
    "latent_inputs = keras.Input(shape=(latent_dim,))\n",
    "#d = layers.Flatten()(latent_inputs)\n",
    "d1 = layers.Dense(9)(latent_inputs)\n",
    "#d2 = layers.Reshape((117,4))(d1)\n",
    "d2 = layers.Reshape((9,1))(d1)\n",
    "d3 = layers.Conv1D(4,1,strides=1, activation='relu', padding='same')(d2)\n",
    "d4 = layers.UpSampling1D()(d3)\n",
    "d5 = layers.Conv1D(8,1,strides=1, activation='relu', padding='same')(d4)\n",
    "#d6 = layers.UpSampling1D(2)(d5)\n",
    "#d7 = layers.UpSampling1D(2)(d6)\n",
    "d8 = layers.Conv1D(1,2, strides=1, activation='sigmoid', padding='same')(d5)\n",
    "decoded = layers.Cropping1D(cropping=(1,0))(d8) # this is the added step\n",
    "#decoded = d8\n",
    "\n",
    "decoder = keras.Model(latent_inputs, decoded, name=\"decoder\")\n",
    "decoder.summary()"
   ]
  },
  {
   "cell_type": "code",
   "execution_count": 5,
   "id": "606015f1",
   "metadata": {},
   "outputs": [],
   "source": [
    "class VAE(keras.Model):\n",
    "    def __init__(self, encoder, decoder, **kwargs):\n",
    "        super(VAE, self).__init__(**kwargs)\n",
    "        self.encoder = encoder\n",
    "        self.decoder = decoder\n",
    "        self.total_loss_tracker = keras.metrics.Mean(name=\"total_loss\")\n",
    "        self.reconstruction_loss_tracker = keras.metrics.Mean(\n",
    "            name=\"reconstruction_loss\"\n",
    "        )\n",
    "        self.kl_loss_tracker = keras.metrics.Mean(name=\"kl_loss\")\n",
    "\n",
    "    @property\n",
    "    def metrics(self):\n",
    "        return [\n",
    "            self.total_loss_tracker,\n",
    "            self.reconstruction_loss_tracker,\n",
    "            self.kl_loss_tracker,\n",
    "        ]\n",
    "\n",
    "    def train_step(self, data):\n",
    "        with tf.GradientTape() as tape:\n",
    "            z_mean, z_log_var, z = self.encoder(data)\n",
    "            reconstruction = self.decoder(z)\n",
    "            reconstruction_loss = tf.reduce_mean(\n",
    "                tf.reduce_sum(\n",
    "                    (data - reconstruction)**2, axis=(1, 2)\n",
    "                )\n",
    "            )\n",
    "            kl_loss = -0.5 * (1 + z_log_var - tf.square(z_mean) - tf.exp(z_log_var))\n",
    "            kl_loss = tf.reduce_mean(tf.reduce_sum(kl_loss, axis=1))\n",
    "            total_loss = reconstruction_loss + kl_loss\n",
    "        grads = tape.gradient(total_loss, self.trainable_weights)\n",
    "        self.optimizer.apply_gradients(zip(grads, self.trainable_weights))\n",
    "        self.total_loss_tracker.update_state(total_loss)\n",
    "        self.reconstruction_loss_tracker.update_state(reconstruction_loss)\n",
    "        self.kl_loss_tracker.update_state(kl_loss)\n",
    "        return {\n",
    "            \"loss\": self.total_loss_tracker.result(),\n",
    "            \"reconstruction_loss\": self.reconstruction_loss_tracker.result(),\n",
    "            \"kl_loss\": self.kl_loss_tracker.result(),\n",
    "        }"
   ]
  },
  {
   "cell_type": "code",
   "execution_count": 6,
   "id": "4800daa6",
   "metadata": {},
   "outputs": [],
   "source": [
    "(x_train) = pd.read_csv('train_dataset.csv')\n",
    "(x_test) = pd.read_csv('test_dataset.csv')\n",
    "\n",
    "#print(x_train)\n",
    "#print(x_test)"
   ]
  },
  {
   "cell_type": "code",
   "execution_count": 7,
   "id": "6a65d5e2",
   "metadata": {},
   "outputs": [
    {
     "name": "stdout",
     "output_type": "stream",
     "text": [
      "Epoch 1/3\n",
      "33/33 [==============================] - 8s 207ms/step - loss: 7554973.2647 - reconstruction_loss: 7400557.5000 - kl_loss: 471805.5938\n",
      "Epoch 2/3\n",
      "33/33 [==============================] - 7s 203ms/step - loss: 7605674.8235 - reconstruction_loss: 7401751.0000 - kl_loss: 525.1280\n",
      "Epoch 3/3\n",
      "33/33 [==============================] - 6s 171ms/step - loss: 7580708.6912 - reconstruction_loss: 7400849.5000 - kl_loss: 541.3251\n"
     ]
    },
    {
     "data": {
      "text/plain": [
       "<keras.callbacks.History at 0x299b7ee6910>"
      ]
     },
     "execution_count": 7,
     "metadata": {},
     "output_type": "execute_result"
    }
   ],
   "source": [
    "peptides = np.concatenate([x_train, x_test], axis=0)\n",
    "#mnist_digits = np.expand_dims(mnist_digits, -1).astype(\"float32\") / 255\n",
    "peptides = np.expand_dims(peptides, -1)\n",
    "\n",
    "vae = VAE(encoder, decoder)\n",
    "vae.compile(optimizer=keras.optimizers.Adam())\n",
    "vae.fit(peptides, epochs=3)"
   ]
  },
  {
   "cell_type": "code",
   "execution_count": null,
   "id": "0d1bf737",
   "metadata": {},
   "outputs": [],
   "source": []
  }
 ],
 "metadata": {
  "kernelspec": {
   "display_name": "Python 3 (ipykernel)",
   "language": "python",
   "name": "python3"
  },
  "language_info": {
   "codemirror_mode": {
    "name": "ipython",
    "version": 3
   },
   "file_extension": ".py",
   "mimetype": "text/x-python",
   "name": "python",
   "nbconvert_exporter": "python",
   "pygments_lexer": "ipython3",
   "version": "3.9.12"
  }
 },
 "nbformat": 4,
 "nbformat_minor": 5
}
