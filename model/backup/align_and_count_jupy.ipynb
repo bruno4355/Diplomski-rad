{
 "cells": [
  {
   "cell_type": "code",
   "execution_count": 1,
   "id": "43e929e2",
   "metadata": {},
   "outputs": [
    {
     "ename": "ModuleNotFoundError",
     "evalue": "No module named 'skbio'",
     "output_type": "error",
     "traceback": [
      "\u001b[1;31m---------------------------------------------------------------------------\u001b[0m",
      "\u001b[1;31mModuleNotFoundError\u001b[0m                       Traceback (most recent call last)",
      "\u001b[1;32m~\\AppData\\Local\\Temp\\ipykernel_19688\\4159045957.py\u001b[0m in \u001b[0;36m<module>\u001b[1;34m\u001b[0m\n\u001b[1;32m----> 1\u001b[1;33m \u001b[1;32mfrom\u001b[0m \u001b[0mskbio\u001b[0m \u001b[1;32mimport\u001b[0m \u001b[0mProtein\u001b[0m\u001b[1;33m\u001b[0m\u001b[1;33m\u001b[0m\u001b[0m\n\u001b[0m\u001b[0;32m      2\u001b[0m \u001b[1;32mfrom\u001b[0m \u001b[0mskbio\u001b[0m\u001b[1;33m.\u001b[0m\u001b[0malignment\u001b[0m \u001b[1;32mimport\u001b[0m \u001b[0mglobal_pairwise_align_protein\u001b[0m\u001b[1;33m\u001b[0m\u001b[1;33m\u001b[0m\u001b[0m\n\u001b[0;32m      3\u001b[0m \u001b[1;33m\u001b[0m\u001b[0m\n\u001b[0;32m      4\u001b[0m \u001b[1;32mdef\u001b[0m \u001b[0malign_and_count\u001b[0m\u001b[1;33m(\u001b[0m\u001b[0mpeptide1\u001b[0m\u001b[1;33m,\u001b[0m \u001b[0mpeptide2\u001b[0m\u001b[1;33m)\u001b[0m\u001b[1;33m:\u001b[0m\u001b[1;33m\u001b[0m\u001b[1;33m\u001b[0m\u001b[0m\n\u001b[0;32m      5\u001b[0m     aln, _, _ = global_pairwise_align_protein(\n",
      "\u001b[1;31mModuleNotFoundError\u001b[0m: No module named 'skbio'"
     ]
    }
   ],
   "source": [
    "from skbio import Protein\n",
    "from skbio.alignment import global_pairwise_align_protein\n",
    "\n",
    "def align_and_count(peptide1, peptide2):\n",
    "    aln, _, _ = global_pairwise_align_protein(\n",
    "        Protein(peptide1),\n",
    "        Protein(peptide2)\n",
    "    )\n",
    "\n",
    "    seq1, seq2 = aln\n",
    "    print(seq1, seq2)\n",
    "    return seq1.match_frequency(seq2, relative=True)\n",
    "\n",
    "print(align_and_count(\"DCEKRAR\", \"QAHCHRAR\"))"
   ]
  }
 ],
 "metadata": {
  "kernelspec": {
   "display_name": "Python 3 (ipykernel)",
   "language": "python",
   "name": "python3"
  },
  "language_info": {
   "codemirror_mode": {
    "name": "ipython",
    "version": 3
   },
   "file_extension": ".py",
   "mimetype": "text/x-python",
   "name": "python",
   "nbconvert_exporter": "python",
   "pygments_lexer": "ipython3",
   "version": "3.9.12"
  }
 },
 "nbformat": 4,
 "nbformat_minor": 5
}
